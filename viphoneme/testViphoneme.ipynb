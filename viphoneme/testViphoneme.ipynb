{
 "cells": [
  {
   "cell_type": "code",
   "id": "initial_id",
   "metadata": {
    "collapsed": true,
    "ExecuteTime": {
     "end_time": "2025-06-25T14:50:27.634291Z",
     "start_time": "2025-06-25T14:49:03.159164Z"
    }
   },
   "source": [
    "import sys\n",
    "\n",
    "from viphoneme import vi2IPA\n",
    "vi2IPA(\"Hôm nay tôi có meeting với Luci hello kitty dsfhek của một công ty AI lớn tại TP.HCM lúc mười 10:30 AM, sau đó đi ăn phở với giá 50k VND rồi check email ASAP\")"
   ],
   "outputs": [
    {
     "name": "stderr",
     "output_type": "stream",
     "text": [
      "E:\\AI\\Kokoro\\venv\\lib\\site-packages\\torch\\cuda\\__init__.py:128: UserWarning: CUDA initialization: The NVIDIA driver on your system is too old (found version 11060). Please update your GPU driver by downloading and installing a new version from the URL: http://www.nvidia.com/Download/index.aspx Alternatively, go to: https://pytorch.org to install a PyTorch version that has been compiled with your version of the CUDA driver. (Triggered internally at C:\\actions-runner\\_work\\pytorch\\pytorch\\builder\\windows\\pytorch\\c10\\cuda\\CUDAFunctions.cpp:108.)\n",
      "  return torch._C._cuda_getDeviceCount() > 0\n"
     ]
    },
    {
     "data": {
      "text/plain": [
       "'hom1 năj1 toj1 kɔ5 (en)mˈiːɾɪŋ vɤj5 (en)lˈuːsaɪ (en)həlˈoʊ (en)kˈɪɾi (en)dˌiːˌɛsˈɛfhˈɛk kuə4 mot6 koŋ͡m1 ti1 aj1 lɤn5 taj6 ti1 pi1 etʃ5 ʂi1 ɛm1 luk͡p5 mɯəj2 [1] [0] : [3] [0] am1 , ʂăw1 dɔ5 di1 ăn1 fɤ4 vɤj5 ja5 [5] [0] (en)kˈeɪ vi1 ɛn1 di1 ʐoj2 (en)tʃˈɛk (en)ˈiːmeɪl ɤ̆j1 ɛt5 ɤ̆j1 pi1 '"
      ]
     },
     "execution_count": 1,
     "metadata": {},
     "output_type": "execute_result"
    }
   ],
   "execution_count": 1
  },
  {
   "metadata": {
    "ExecuteTime": {
     "end_time": "2025-06-25T14:53:03.571732Z",
     "start_time": "2025-06-25T14:53:03.558782Z"
    }
   },
   "cell_type": "code",
   "source": "vi2IPA(\"english\")",
   "id": "4276582dc2100371",
   "outputs": [
    {
     "data": {
      "text/plain": [
       "'(en)ˈɪŋɡlɪʃ '"
      ]
     },
     "execution_count": 3,
     "metadata": {},
     "output_type": "execute_result"
    }
   ],
   "execution_count": 3
  },
  {
   "metadata": {
    "ExecuteTime": {
     "end_time": "2025-05-02T11:30:20.615896Z",
     "start_time": "2025-05-02T11:30:18.239260Z"
    }
   },
   "cell_type": "code",
   "source": [
    "# import os\n",
    "# os.environ['PHONEMIZER_ESPEAK_LIBRARY'] = \"C:\\Program Files\\eSpeak NG\\libespeak-ng.dll\"\n",
    "from phonemizer.backend import EspeakBackend\n",
    "global_phonemizer_espeak = EspeakBackend(\n",
    "        language='en-us',           # Ngôn ngữ cố định\n",
    "        preserve_punctuation=True,  # Giữ dấu câu\n",
    "        with_stress=True            # Bao gồm dấu nhấn\n",
    "        \n",
    "    )"
   ],
   "id": "5d7d720ca448c8ef",
   "outputs": [],
   "execution_count": 4
  },
  {
   "metadata": {
    "ExecuteTime": {
     "end_time": "2025-05-02T11:33:44.709371Z",
     "start_time": "2025-05-02T11:33:44.693841Z"
    }
   },
   "cell_type": "code",
   "source": [
    "espeak_ipa = global_phonemizer_espeak.phonemize(\n",
    "                                [\"Nestlé\"], # truyền trực tiếp từ (không cần list)\n",
    "                                njobs=1 #  có thể dùng ở đây (nhưng không cần thiết)\n",
    "                            )\n"
   ],
   "id": "202dc28dcbad22fe",
   "outputs": [],
   "execution_count": 7
  },
  {
   "metadata": {
    "ExecuteTime": {
     "end_time": "2025-05-02T11:33:46.809753Z",
     "start_time": "2025-05-02T11:33:46.794130Z"
    }
   },
   "cell_type": "code",
   "source": "espeak_ipa[0].strip()",
   "id": "e755eaf2cf85534",
   "outputs": [
    {
     "data": {
      "text/plain": [
       "'nɛslˈeɪ'"
      ]
     },
     "execution_count": 8,
     "metadata": {},
     "output_type": "execute_result"
    }
   ],
   "execution_count": 8
  },
  {
   "metadata": {},
   "cell_type": "code",
   "outputs": [],
   "execution_count": null,
   "source": "",
   "id": "2a85809f324f8ee8"
  }
 ],
 "metadata": {
  "kernelspec": {
   "display_name": "Python 3",
   "language": "python",
   "name": "python3"
  },
  "language_info": {
   "codemirror_mode": {
    "name": "ipython",
    "version": 2
   },
   "file_extension": ".py",
   "mimetype": "text/x-python",
   "name": "python",
   "nbconvert_exporter": "python",
   "pygments_lexer": "ipython2",
   "version": "2.7.6"
  }
 },
 "nbformat": 4,
 "nbformat_minor": 5
}
